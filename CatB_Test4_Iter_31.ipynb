{
  "cells": [
    {
      "cell_type": "markdown",
      "metadata": {
        "id": "view-in-github",
        "colab_type": "text"
      },
      "source": [
        "<a href=\"https://colab.research.google.com/github/armen1s/BOT/blob/main/CatB_Test4_Iter_31.ipynb\" target=\"_parent\"><img src=\"https://colab.research.google.com/assets/colab-badge.svg\" alt=\"Open In Colab\"/></a>"
      ]
    },
    {
      "cell_type": "markdown",
      "metadata": {
        "id": "hBRmD6wi93hk"
      },
      "source": [
        "#Libs"
      ]
    },
    {
      "cell_type": "code",
      "execution_count": 2,
      "metadata": {
        "colab": {
          "base_uri": "https://localhost:8080/",
          "height": 1000
        },
        "id": "eSmqWNcMx6q3",
        "outputId": "f198e206-4a2a-47ae-c27a-1ab5c12469f8"
      },
      "outputs": [
        {
          "metadata": {
            "tags": null
          },
          "name": "stdout",
          "output_type": "stream",
          "text": [
            "Collecting catboost\n",
            "  Downloading catboost-1.2.8-cp311-cp311-manylinux2014_x86_64.whl.metadata (1.2 kB)\n",
            "Requirement already satisfied: graphviz in /usr/local/lib/python3.11/dist-packages (from catboost) (0.21)\n",
            "Requirement already satisfied: matplotlib in /usr/local/lib/python3.11/dist-packages (from catboost) (3.10.0)\n",
            "Requirement already satisfied: numpy<3.0,>=1.16.0 in /usr/local/lib/python3.11/dist-packages (from catboost) (2.0.2)\n",
            "Requirement already satisfied: pandas>=0.24 in /usr/local/lib/python3.11/dist-packages (from catboost) (2.2.2)\n",
            "Requirement already satisfied: scipy in /usr/local/lib/python3.11/dist-packages (from catboost) (1.15.3)\n",
            "Requirement already satisfied: plotly in /usr/local/lib/python3.11/dist-packages (from catboost) (5.24.1)\n",
            "Requirement already satisfied: six in /usr/local/lib/python3.11/dist-packages (from catboost) (1.17.0)\n",
            "Requirement already satisfied: python-dateutil>=2.8.2 in /usr/local/lib/python3.11/dist-packages (from pandas>=0.24->catboost) (2.9.0.post0)\n",
            "Requirement already satisfied: pytz>=2020.1 in /usr/local/lib/python3.11/dist-packages (from pandas>=0.24->catboost) (2025.2)\n",
            "Requirement already satisfied: tzdata>=2022.7 in /usr/local/lib/python3.11/dist-packages (from pandas>=0.24->catboost) (2025.2)\n",
            "Requirement already satisfied: contourpy>=1.0.1 in /usr/local/lib/python3.11/dist-packages (from matplotlib->catboost) (1.3.2)\n",
            "Requirement already satisfied: cycler>=0.10 in /usr/local/lib/python3.11/dist-packages (from matplotlib->catboost) (0.12.1)\n",
            "Requirement already satisfied: fonttools>=4.22.0 in /usr/local/lib/python3.11/dist-packages (from matplotlib->catboost) (4.58.4)\n",
            "Requirement already satisfied: kiwisolver>=1.3.1 in /usr/local/lib/python3.11/dist-packages (from matplotlib->catboost) (1.4.8)\n",
            "Requirement already satisfied: packaging>=20.0 in /usr/local/lib/python3.11/dist-packages (from matplotlib->catboost) (24.2)\n",
            "Requirement already satisfied: pillow>=8 in /usr/local/lib/python3.11/dist-packages (from matplotlib->catboost) (11.2.1)\n",
            "Requirement already satisfied: pyparsing>=2.3.1 in /usr/local/lib/python3.11/dist-packages (from matplotlib->catboost) (3.2.3)\n",
            "Requirement already satisfied: tenacity>=6.2.0 in /usr/local/lib/python3.11/dist-packages (from plotly->catboost) (8.5.0)\n",
            "Downloading catboost-1.2.8-cp311-cp311-manylinux2014_x86_64.whl (99.2 MB)\n",
            "\u001b[2K   \u001b[90m━━━━━━━━━━━━━━━━━━━━━━━━━━━━━━━━━━━━━━━━\u001b[0m \u001b[32m99.2/99.2 MB\u001b[0m \u001b[31m6.8 MB/s\u001b[0m eta \u001b[36m0:00:00\u001b[0m\n",
            "\u001b[?25hInstalling collected packages: catboost\n",
            "Successfully installed catboost-1.2.8\n",
            "Collecting ccxt\n",
            "  Downloading ccxt-4.4.91-py2.py3-none-any.whl.metadata (131 kB)\n",
            "\u001b[2K     \u001b[90m━━━━━━━━━━━━━━━━━━━━━━━━━━━━━━━━━━━━━━━\u001b[0m \u001b[32m131.6/131.6 kB\u001b[0m \u001b[31m3.1 MB/s\u001b[0m eta \u001b[36m0:00:00\u001b[0m\n",
            "\u001b[?25hRequirement already satisfied: setuptools>=60.9.0 in /usr/local/lib/python3.11/dist-packages (from ccxt) (75.2.0)\n",
            "Requirement already satisfied: certifi>=2018.1.18 in /usr/local/lib/python3.11/dist-packages (from ccxt) (2025.6.15)\n",
            "Requirement already satisfied: requests>=2.18.4 in /usr/local/lib/python3.11/dist-packages (from ccxt) (2.32.3)\n",
            "Requirement already satisfied: cryptography>=2.6.1 in /usr/local/lib/python3.11/dist-packages (from ccxt) (43.0.3)\n",
            "Requirement already satisfied: typing-extensions>=4.4.0 in /usr/local/lib/python3.11/dist-packages (from ccxt) (4.14.0)\n",
            "Requirement already satisfied: aiohttp>=3.10.11 in /usr/local/lib/python3.11/dist-packages (from ccxt) (3.11.15)\n",
            "Collecting aiodns>=1.1.1 (from ccxt)\n",
            "  Downloading aiodns-3.5.0-py3-none-any.whl.metadata (5.8 kB)\n",
            "Requirement already satisfied: yarl>=1.7.2 in /usr/local/lib/python3.11/dist-packages (from ccxt) (1.20.1)\n",
            "Collecting pycares>=4.9.0 (from aiodns>=1.1.1->ccxt)\n",
            "  Downloading pycares-4.9.0-cp311-cp311-manylinux_2_17_x86_64.manylinux2014_x86_64.whl.metadata (4.3 kB)\n",
            "Requirement already satisfied: aiohappyeyeballs>=2.3.0 in /usr/local/lib/python3.11/dist-packages (from aiohttp>=3.10.11->ccxt) (2.6.1)\n",
            "Requirement already satisfied: aiosignal>=1.1.2 in /usr/local/lib/python3.11/dist-packages (from aiohttp>=3.10.11->ccxt) (1.3.2)\n",
            "Requirement already satisfied: attrs>=17.3.0 in /usr/local/lib/python3.11/dist-packages (from aiohttp>=3.10.11->ccxt) (25.3.0)\n",
            "Requirement already satisfied: frozenlist>=1.1.1 in /usr/local/lib/python3.11/dist-packages (from aiohttp>=3.10.11->ccxt) (1.7.0)\n",
            "Requirement already satisfied: multidict<7.0,>=4.5 in /usr/local/lib/python3.11/dist-packages (from aiohttp>=3.10.11->ccxt) (6.4.4)\n",
            "Requirement already satisfied: propcache>=0.2.0 in /usr/local/lib/python3.11/dist-packages (from aiohttp>=3.10.11->ccxt) (0.3.2)\n",
            "Requirement already satisfied: cffi>=1.12 in /usr/local/lib/python3.11/dist-packages (from cryptography>=2.6.1->ccxt) (1.17.1)\n",
            "Requirement already satisfied: charset-normalizer<4,>=2 in /usr/local/lib/python3.11/dist-packages (from requests>=2.18.4->ccxt) (3.4.2)\n",
            "Requirement already satisfied: idna<4,>=2.5 in /usr/local/lib/python3.11/dist-packages (from requests>=2.18.4->ccxt) (3.10)\n",
            "Requirement already satisfied: urllib3<3,>=1.21.1 in /usr/local/lib/python3.11/dist-packages (from requests>=2.18.4->ccxt) (2.4.0)\n",
            "Requirement already satisfied: pycparser in /usr/local/lib/python3.11/dist-packages (from cffi>=1.12->cryptography>=2.6.1->ccxt) (2.22)\n",
            "Downloading ccxt-4.4.91-py2.py3-none-any.whl (5.6 MB)\n",
            "\u001b[2K   \u001b[90m━━━━━━━━━━━━━━━━━━━━━━━━━━━━━━━━━━━━━━━━\u001b[0m \u001b[32m5.6/5.6 MB\u001b[0m \u001b[31m50.3 MB/s\u001b[0m eta \u001b[36m0:00:00\u001b[0m\n",
            "\u001b[?25hDownloading aiodns-3.5.0-py3-none-any.whl (8.1 kB)\n",
            "Downloading pycares-4.9.0-cp311-cp311-manylinux_2_17_x86_64.manylinux2014_x86_64.whl (627 kB)\n",
            "\u001b[2K   \u001b[90m━━━━━━━━━━━━━━━━━━━━━━━━━━━━━━━━━━━━━━━━\u001b[0m \u001b[32m628.0/628.0 kB\u001b[0m \u001b[31m25.8 MB/s\u001b[0m eta \u001b[36m0:00:00\u001b[0m\n",
            "\u001b[?25hInstalling collected packages: pycares, aiodns, ccxt\n",
            "Successfully installed aiodns-3.5.0 ccxt-4.4.91 pycares-4.9.0\n",
            "Collecting TA-Lib-Precompiled\n",
            "  Downloading TA_Lib_Precompiled-0.4.25-cp311-cp311-manylinux_2_17_x86_64.manylinux2014_x86_64.whl.metadata (19 kB)\n",
            "Requirement already satisfied: numpy in /usr/local/lib/python3.11/dist-packages (from TA-Lib-Precompiled) (2.0.2)\n",
            "Downloading TA_Lib_Precompiled-0.4.25-cp311-cp311-manylinux_2_17_x86_64.manylinux2014_x86_64.whl (3.2 MB)\n",
            "\u001b[2K   \u001b[90m━━━━━━━━━━━━━━━━━━━━━━━━━━━━━━━━━━━━━━━━\u001b[0m \u001b[32m3.2/3.2 MB\u001b[0m \u001b[31m38.7 MB/s\u001b[0m eta \u001b[36m0:00:00\u001b[0m\n",
            "\u001b[?25hInstalling collected packages: TA-Lib-Precompiled\n",
            "Successfully installed TA-Lib-Precompiled-0.4.25\n",
            "Collecting numpy==1.24.3\n",
            "  Downloading numpy-1.24.3-cp311-cp311-manylinux_2_17_x86_64.manylinux2014_x86_64.whl.metadata (5.6 kB)\n",
            "Downloading numpy-1.24.3-cp311-cp311-manylinux_2_17_x86_64.manylinux2014_x86_64.whl (17.3 MB)\n",
            "\u001b[2K   \u001b[90m━━━━━━━━━━━━━━━━━━━━━━━━━━━━━━━━━━━━━━━━\u001b[0m \u001b[32m17.3/17.3 MB\u001b[0m \u001b[31m101.5 MB/s\u001b[0m eta \u001b[36m0:00:00\u001b[0m\n",
            "\u001b[?25hInstalling collected packages: numpy\n",
            "  Attempting uninstall: numpy\n",
            "    Found existing installation: numpy 2.0.2\n",
            "    Uninstalling numpy-2.0.2:\n",
            "      Successfully uninstalled numpy-2.0.2\n",
            "\u001b[31mERROR: pip's dependency resolver does not currently take into account all the packages that are installed. This behaviour is the source of the following dependency conflicts.\n",
            "jaxlib 0.5.1 requires numpy>=1.25, but you have numpy 1.24.3 which is incompatible.\n",
            "treescope 0.1.9 requires numpy>=1.25.2, but you have numpy 1.24.3 which is incompatible.\n",
            "pymc 5.23.0 requires numpy>=1.25.0, but you have numpy 1.24.3 which is incompatible.\n",
            "thinc 8.3.6 requires numpy<3.0.0,>=2.0.0, but you have numpy 1.24.3 which is incompatible.\n",
            "albucore 0.0.24 requires numpy>=1.24.4, but you have numpy 1.24.3 which is incompatible.\n",
            "tensorflow 2.18.0 requires numpy<2.1.0,>=1.26.0, but you have numpy 1.24.3 which is incompatible.\n",
            "jax 0.5.2 requires numpy>=1.25, but you have numpy 1.24.3 which is incompatible.\n",
            "albumentations 2.0.8 requires numpy>=1.24.4, but you have numpy 1.24.3 which is incompatible.\n",
            "xarray-einstats 0.9.1 requires numpy>=1.25, but you have numpy 1.24.3 which is incompatible.\n",
            "blosc2 3.5.0 requires numpy>=1.26, but you have numpy 1.24.3 which is incompatible.\u001b[0m\u001b[31m\n",
            "\u001b[0mSuccessfully installed numpy-1.24.3\n"
          ]
        },
        {
          "data": {
            "application/vnd.colab-display-data+json": {
              "id": "326b120b6b5149b4a651ab75784fe684",
              "pip_warning": {
                "packages": [
                  "numpy"
                ]
              }
            }
          },
          "metadata": {},
          "output_type": "display_data"
        }
      ],
      "source": [
        "#@title Install libs\n",
        "!pip install catboost\n",
        "!pip install ccxt\n",
        "\n",
        "\"\"\"\n",
        "!wget http://prdownloads.sourceforge.net/ta-lib/ta-lib-0.4.0-src.tar.gz\n",
        "!tar -xzvf ta-lib-0.4.0-src.tar.gz\n",
        "%cd ta-lib\n",
        "!./configure --prefix=/usr\n",
        "!make\n",
        "!make install\n",
        "!pip install Ta-Lib\n",
        "\"\"\"\n",
        "\n",
        "!pip install TA-Lib-Precompiled\n",
        "!pip install numpy==1.24.3"
      ]
    },
    {
      "cell_type": "code",
      "execution_count": null,
      "metadata": {
        "id": "cBUhRZaWxG6n"
      },
      "outputs": [],
      "source": [
        "from logging import warning\n",
        "#@title Load libs\n",
        "import numpy as np\n",
        "\n",
        "# Data Management\n",
        "import pandas as pd\n",
        "\n",
        "# Machine Learning\n",
        "from catboost import CatBoostClassifier\n",
        "from sklearn.model_selection import train_test_split\n",
        "from sklearn.model_selection import RandomizedSearchCV, cross_val_score\n",
        "from sklearn.model_selection import RepeatedStratifiedKFold\n",
        "from sklearn.linear_model import LogisticRegression\n",
        "\n",
        "# ensemble\n",
        "from sklearn.ensemble import RandomForestClassifier, GradientBoostingClassifier\n",
        "from sklearn.ensemble import StackingClassifier\n",
        "from sklearn.ensemble import VotingClassifier\n",
        "\n",
        "#Sampling Methods\n",
        "from imblearn.over_sampling import ADASYN\n",
        "\n",
        "#Scaling\n",
        "from sklearn.preprocessing import MinMaxScaler, StandardScaler\n",
        "\n",
        "# Binary Classification Specific Metrics\n",
        "from sklearn.metrics import RocCurveDisplay as plot_roc_curve\n",
        "\n",
        "# General Metrics\n",
        "from sklearn.metrics import accuracy_score\n",
        "from sklearn.metrics import precision_score\n",
        "from sklearn.metrics import confusion_matrix, classification_report, roc_curve, roc_auc_score, accuracy_score\n",
        "from sklearn.metrics import precision_score\n",
        "from sklearn.metrics import ConfusionMatrixDisplay\n",
        "\n",
        "\n",
        "# Reporting\n",
        "import matplotlib.pyplot as plt\n",
        "from matplotlib.pylab import rcParams\n",
        "from xgboost import plot_tree\n",
        "\n",
        "from hyperopt import fmin, tpe, hp\n",
        "from pandas_datareader.data import DataReader\n",
        "\n",
        "import json\n",
        "from datetime import datetime\n",
        "import talib as ta\n",
        "import ccxt\n",
        "\n",
        "import matplotlib.pyplot as plt\n",
        "\n",
        "from tqdm import tqdm\n",
        "import pickle as pk\n",
        "import joblib"
      ]
    },
    {
      "cell_type": "markdown",
      "metadata": {
        "id": "BBMrgw3X973c"
      },
      "source": [
        "#Functions"
      ]
    },
    {
      "cell_type": "code",
      "execution_count": null,
      "metadata": {
        "id": "2RS1tam39__5"
      },
      "outputs": [],
      "source": [
        "import numpy as np\n",
        "import pandas as pd\n",
        "import talib as ta\n",
        "\n",
        "\n",
        "def get_indicators(data, timeframes, volatility_look_back, supertrend_multiplier=3):\n",
        "    \"\"\"\n",
        "    Возвращает датафрейм с индикаторами:\n",
        "        – классические (ATR, RSI, VWAP, Supertrend …)\n",
        "        – «нишумовые» фичи для распознавания нулевого класса\n",
        "    \"\"\"\n",
        "    df = data.copy()\n",
        "\n",
        "    # ----------------------------------------------------------\n",
        "    # ❶ Цикл по каждому тайм‑фрейму\n",
        "    # ----------------------------------------------------------\n",
        "    for timeframe in timeframes:\n",
        "        # --- базовые индикаторы\n",
        "        df[f'ATR_{timeframe}']  = ta.ATR(df['high'], df['low'], df['close'], timeperiod=timeframe)\n",
        "        df[f'RSI_{timeframe}']  = ta.RSI(df['close'], timeperiod=timeframe)\n",
        "\n",
        "\n",
        "        df[f'CCI_{timeframe}']  = ta.CCI(df['high'], df['low'], df['close'], timeperiod=timeframe)\n",
        "\n",
        "        # --- DPO\n",
        "        offset = timeframe // 2 + 1\n",
        "        sma    = df['close'].rolling(window=timeframe).mean()\n",
        "        df[f'DPO_{timeframe}'] = df['close'].shift(offset) - sma\n",
        "        dpo_range = df[f'DPO_{timeframe}'].rolling(window=timeframe).apply(lambda x: x.max() - x.min())\n",
        "        df[f'DPO_flat_{timeframe}'] = (dpo_range < 0.01).astype(int)\n",
        "\n",
        "\n",
        "\n",
        "\n",
        "\n",
        "\n",
        "        # ------------------------------------------------------\n",
        "        # ❷ «Тишинные» фичи для нулевого класса\n",
        "        # ------------------------------------------------------\n",
        "        # амплитуда и тело свечи\n",
        "        df['range_abs']   = df['high'] - df['low']\n",
        "        df['candle_body'] = (df['open'] - df['close']).abs()\n",
        "\n",
        "\n",
        "\n",
        "\n",
        "\n",
        "    # ----------------------------------------------------------\n",
        "    # ❸ Глобальные метрики\n",
        "    # ----------------------------------------------------------\n",
        "    df[\"returns\"]    = (df[\"close\"] / df[\"close\"].shift(volatility_look_back)) - 1\n",
        "    df[\"range\"]      = (df[\"high\"] / df[\"low\"]) - 1\n",
        "    df[\"volatility\"] = df[\"returns\"].rolling(window=volatility_look_back).std(ddof=0)\n",
        "\n",
        "    # Volume‑based\n",
        "    df['ADL'] = ta.AD(df['high'], df['low'], df['close'], df['volume'])\n",
        "    df['ROC'] = ta.ROC(df['close'], timeperiod=volatility_look_back)\n",
        "\n",
        "\n",
        "    # Momentu\n",
        "    df['PSAR'] = ta.SAR(df['high'], df['low'], acceleration=0.02, maximum=0.2)\n",
        "    df['ADX']  = ta.ADX(df['high'], df['low'], df['close'], timeperiod=volatility_look_back)\n",
        "\n",
        "    return df"
      ]
    },
    {
      "cell_type": "code",
      "execution_count": null,
      "metadata": {
        "id": "mMOt97Z7_GFa"
      },
      "outputs": [],
      "source": [
        "#@title New Mark Function\n",
        "def get_shifts(df, K=4): #(data, K=4):\n",
        "    #df=data.copy()\n",
        "    for i in range(K):\n",
        "        name_back=f'shift_{i}'\n",
        "        name_frorward=f'shift_-{i}'\n",
        "        df[name_back]=df['close'].shift(i)\n",
        "        df[name_frorward]=df['close'].shift(-i)\n",
        "    df.dropna(inplace=True)\n",
        "    #return df\n",
        "\n",
        "def get_coefs(df, K=4): #data, K=4):\n",
        "    #df=data.copy()\n",
        "\n",
        "    #get means\n",
        "    back_col_names=[f'shift_{i}' for i in range(K)]\n",
        "    frorward_col_names=[f'shift_-{i}' for i in range(K)]\n",
        "    back_result=[i.mean() for i in df[back_col_names].values]\n",
        "    frorward_result=[i.mean() for i in df[frorward_col_names].values]\n",
        "    df['mean_back']=back_result\n",
        "    df['mean_frorward']=frorward_result\n",
        "\n",
        "    #get coefs\n",
        "    df['coef']=(df['mean_frorward']-df['mean_back'])/df['mean_back']\n",
        "    #return df\n",
        "\n",
        "def get_classes(df,std_corrector=1): #data, std_corrector=1):\n",
        "    #df=data.copy()\n",
        "    long_thold=df['coef'][df['coef']>=0].mean()-df['coef'][df['coef']>=0].std()/std_corrector\n",
        "    short_thold=df['coef'][df['coef']<0].mean()+df['coef'][df['coef']<0].std()/std_corrector\n",
        "    df['target']=0\n",
        "    df['target'][df['coef']>long_thold]=1\n",
        "    df['target'][df['coef']<short_thold]=2 #-1\n",
        "    #return df\n",
        "\n",
        "def get_lbls(data, K=4, std_corrector=1):\n",
        "    df=data.copy()\n",
        "    get_shifts(df, K)\n",
        "    get_coefs(df, K)\n",
        "    get_classes(df, std_corrector)\n",
        "\n",
        "    return df"
      ]
    },
    {
      "cell_type": "code",
      "execution_count": null,
      "metadata": {
        "id": "5FETN4UkVAZO"
      },
      "outputs": [],
      "source": [
        "#@title Indicators adding function\n",
        "def add_indicators(data,\n",
        "                   timeframes = [2, 4, 7, 8, 10, 12, 14],\n",
        "                   volatility_look_back= 2):\n",
        "    df_w_indicators=get_indicators(data,\n",
        "                               timeframes,\n",
        "                               volatility_look_back)\n",
        "    df_w_indicators.dropna(inplace=True)\n",
        "\n",
        "    # Apply np.isinf and np.isnan to numerical columns only\n",
        "    numerical_cols = df_w_indicators.select_dtypes(include=np.number).columns\n",
        "    # Recalculate inf_mask using df_cleaned instead of df_w_indicators\n",
        "    inf_mask = np.isinf(df_w_indicators[numerical_cols]) | np.isnan(df_w_indicators[numerical_cols])\n",
        "\n",
        "    # Update the rest of the code accordingly\n",
        "    df_cleaned = df_w_indicators[~inf_mask.any(axis=1)]\n",
        "    # Use numerical_cols for column selection to ensure alignment\n",
        "    df = df_cleaned.loc[:, numerical_cols[~inf_mask.any(axis=0)]]\n",
        "    df.dropna(inplace=True)\n",
        "    return df"
      ]
    },
    {
      "cell_type": "markdown",
      "metadata": {
        "id": "ZFkAZ_qR_E67"
      },
      "source": [
        "#Data preparation"
      ]
    },
    {
      "cell_type": "code",
      "execution_count": null,
      "metadata": {
        "colab": {
          "base_uri": "https://localhost:8080/"
        },
        "id": "U5vHr2-24plo",
        "outputId": "0c9af256-c946-4531-c187-86da6a908208"
      },
      "outputs": [
        {
          "output_type": "stream",
          "name": "stdout",
          "text": [
            "Исходный размер DataFrame: 9000\n"
          ]
        }
      ],
      "source": [
        "#@title Read csv\n",
        "five_min_df = pd.read_csv('/content/5m_2025-04-29_2025-06-27_bybit_btcusdt_ohlcv.csv')\n",
        "\n",
        "# Удаляем строки, где timestamp равен '2' (или содержит некорректные данные)\n",
        "five_min_df = five_min_df[five_min_df['timestamp'] != '2']\n",
        "\n",
        "# Удаляем строки с пустым volume\n",
        "five_min_df = five_min_df.dropna(subset=['volume'])\n",
        "\n",
        "# Преобразуем столбец 'timestamp' в datetime\n",
        "five_min_df['timestamp'] = pd.to_datetime(five_min_df['timestamp'])\n",
        "\n",
        "# Устанавливаем столбец 'timestamp' в качестве индекса\n",
        "five_min_df.set_index('timestamp', inplace=True)\n",
        "\n",
        "five_min_df = five_min_df.tail(9000)\n",
        "\n",
        "print(f\"Исходный размер DataFrame: {len(five_min_df)}\")"
      ]
    },
    {
      "cell_type": "code",
      "execution_count": null,
      "metadata": {
        "id": "UdNG67UD5iKy"
      },
      "outputs": [],
      "source": []
    },
    {
      "cell_type": "code",
      "execution_count": null,
      "metadata": {
        "id": "DeHKFbJMPy1E"
      },
      "outputs": [],
      "source": [
        "#@title Primary split\n",
        "train_splitter=round(len(five_min_df)*0.7)\n",
        "train=five_min_df.iloc[:train_splitter]\n",
        "\n",
        "\n",
        "val_splitter=round(len(five_min_df)*0.85)\n",
        "val=five_min_df.iloc[:val_splitter]\n",
        "\n",
        "test=five_min_df.copy()"
      ]
    },
    {
      "cell_type": "code",
      "execution_count": null,
      "metadata": {
        "id": "8ptdPuXJVpSN"
      },
      "outputs": [],
      "source": [
        "#@title Adding indicators to train/test/val\n",
        "train_w_ind=add_indicators(train)\n",
        "val_w_ind=add_indicators(val)\n",
        "test_w_ind=add_indicators(test)"
      ]
    },
    {
      "cell_type": "code",
      "execution_count": null,
      "metadata": {
        "colab": {
          "base_uri": "https://localhost:8080/"
        },
        "id": "YM9s1Ahr_1Ai",
        "outputId": "7f1db534-6c2b-44b2-c3ac-76bc7ed977c7"
      },
      "outputs": [
        {
          "output_type": "stream",
          "name": "stderr",
          "text": [
            "/tmp/ipython-input-7-450657997.py:32: FutureWarning: ChainedAssignmentError: behaviour will change in pandas 3.0!\n",
            "You are setting values through chained assignment. Currently this works in certain cases, but when using Copy-on-Write (which will become the default behaviour in pandas 3.0) this will never work to update the original DataFrame or Series, because the intermediate object on which we are setting values will behave as a copy.\n",
            "A typical example is when you are setting values in a column of a DataFrame, like:\n",
            "\n",
            "df[\"col\"][row_indexer] = value\n",
            "\n",
            "Use `df.loc[row_indexer, \"col\"] = values` instead, to perform the assignment in a single step and ensure this keeps updating the original `df`.\n",
            "\n",
            "See the caveats in the documentation: https://pandas.pydata.org/pandas-docs/stable/user_guide/indexing.html#returning-a-view-versus-a-copy\n",
            "\n",
            "  df['target'][df['coef']>long_thold]=1\n",
            "/tmp/ipython-input-7-450657997.py:32: SettingWithCopyWarning: \n",
            "A value is trying to be set on a copy of a slice from a DataFrame\n",
            "\n",
            "See the caveats in the documentation: https://pandas.pydata.org/pandas-docs/stable/user_guide/indexing.html#returning-a-view-versus-a-copy\n",
            "  df['target'][df['coef']>long_thold]=1\n",
            "/tmp/ipython-input-7-450657997.py:33: FutureWarning: ChainedAssignmentError: behaviour will change in pandas 3.0!\n",
            "You are setting values through chained assignment. Currently this works in certain cases, but when using Copy-on-Write (which will become the default behaviour in pandas 3.0) this will never work to update the original DataFrame or Series, because the intermediate object on which we are setting values will behave as a copy.\n",
            "A typical example is when you are setting values in a column of a DataFrame, like:\n",
            "\n",
            "df[\"col\"][row_indexer] = value\n",
            "\n",
            "Use `df.loc[row_indexer, \"col\"] = values` instead, to perform the assignment in a single step and ensure this keeps updating the original `df`.\n",
            "\n",
            "See the caveats in the documentation: https://pandas.pydata.org/pandas-docs/stable/user_guide/indexing.html#returning-a-view-versus-a-copy\n",
            "\n",
            "  df['target'][df['coef']<short_thold]=2 #-1\n",
            "/tmp/ipython-input-7-450657997.py:33: SettingWithCopyWarning: \n",
            "A value is trying to be set on a copy of a slice from a DataFrame\n",
            "\n",
            "See the caveats in the documentation: https://pandas.pydata.org/pandas-docs/stable/user_guide/indexing.html#returning-a-view-versus-a-copy\n",
            "  df['target'][df['coef']<short_thold]=2 #-1\n",
            "/tmp/ipython-input-7-450657997.py:32: FutureWarning: ChainedAssignmentError: behaviour will change in pandas 3.0!\n",
            "You are setting values through chained assignment. Currently this works in certain cases, but when using Copy-on-Write (which will become the default behaviour in pandas 3.0) this will never work to update the original DataFrame or Series, because the intermediate object on which we are setting values will behave as a copy.\n",
            "A typical example is when you are setting values in a column of a DataFrame, like:\n",
            "\n",
            "df[\"col\"][row_indexer] = value\n",
            "\n",
            "Use `df.loc[row_indexer, \"col\"] = values` instead, to perform the assignment in a single step and ensure this keeps updating the original `df`.\n",
            "\n",
            "See the caveats in the documentation: https://pandas.pydata.org/pandas-docs/stable/user_guide/indexing.html#returning-a-view-versus-a-copy\n",
            "\n",
            "  df['target'][df['coef']>long_thold]=1\n",
            "/tmp/ipython-input-7-450657997.py:32: SettingWithCopyWarning: \n",
            "A value is trying to be set on a copy of a slice from a DataFrame\n",
            "\n",
            "See the caveats in the documentation: https://pandas.pydata.org/pandas-docs/stable/user_guide/indexing.html#returning-a-view-versus-a-copy\n",
            "  df['target'][df['coef']>long_thold]=1\n",
            "/tmp/ipython-input-7-450657997.py:33: FutureWarning: ChainedAssignmentError: behaviour will change in pandas 3.0!\n",
            "You are setting values through chained assignment. Currently this works in certain cases, but when using Copy-on-Write (which will become the default behaviour in pandas 3.0) this will never work to update the original DataFrame or Series, because the intermediate object on which we are setting values will behave as a copy.\n",
            "A typical example is when you are setting values in a column of a DataFrame, like:\n",
            "\n",
            "df[\"col\"][row_indexer] = value\n",
            "\n",
            "Use `df.loc[row_indexer, \"col\"] = values` instead, to perform the assignment in a single step and ensure this keeps updating the original `df`.\n",
            "\n",
            "See the caveats in the documentation: https://pandas.pydata.org/pandas-docs/stable/user_guide/indexing.html#returning-a-view-versus-a-copy\n",
            "\n",
            "  df['target'][df['coef']<short_thold]=2 #-1\n",
            "/tmp/ipython-input-7-450657997.py:33: SettingWithCopyWarning: \n",
            "A value is trying to be set on a copy of a slice from a DataFrame\n",
            "\n",
            "See the caveats in the documentation: https://pandas.pydata.org/pandas-docs/stable/user_guide/indexing.html#returning-a-view-versus-a-copy\n",
            "  df['target'][df['coef']<short_thold]=2 #-1\n",
            "/tmp/ipython-input-7-450657997.py:32: FutureWarning: ChainedAssignmentError: behaviour will change in pandas 3.0!\n",
            "You are setting values through chained assignment. Currently this works in certain cases, but when using Copy-on-Write (which will become the default behaviour in pandas 3.0) this will never work to update the original DataFrame or Series, because the intermediate object on which we are setting values will behave as a copy.\n",
            "A typical example is when you are setting values in a column of a DataFrame, like:\n",
            "\n",
            "df[\"col\"][row_indexer] = value\n",
            "\n",
            "Use `df.loc[row_indexer, \"col\"] = values` instead, to perform the assignment in a single step and ensure this keeps updating the original `df`.\n",
            "\n",
            "See the caveats in the documentation: https://pandas.pydata.org/pandas-docs/stable/user_guide/indexing.html#returning-a-view-versus-a-copy\n",
            "\n",
            "  df['target'][df['coef']>long_thold]=1\n",
            "/tmp/ipython-input-7-450657997.py:32: SettingWithCopyWarning: \n",
            "A value is trying to be set on a copy of a slice from a DataFrame\n",
            "\n",
            "See the caveats in the documentation: https://pandas.pydata.org/pandas-docs/stable/user_guide/indexing.html#returning-a-view-versus-a-copy\n",
            "  df['target'][df['coef']>long_thold]=1\n",
            "/tmp/ipython-input-7-450657997.py:33: FutureWarning: ChainedAssignmentError: behaviour will change in pandas 3.0!\n",
            "You are setting values through chained assignment. Currently this works in certain cases, but when using Copy-on-Write (which will become the default behaviour in pandas 3.0) this will never work to update the original DataFrame or Series, because the intermediate object on which we are setting values will behave as a copy.\n",
            "A typical example is when you are setting values in a column of a DataFrame, like:\n",
            "\n",
            "df[\"col\"][row_indexer] = value\n",
            "\n",
            "Use `df.loc[row_indexer, \"col\"] = values` instead, to perform the assignment in a single step and ensure this keeps updating the original `df`.\n",
            "\n",
            "See the caveats in the documentation: https://pandas.pydata.org/pandas-docs/stable/user_guide/indexing.html#returning-a-view-versus-a-copy\n",
            "\n",
            "  df['target'][df['coef']<short_thold]=2 #-1\n",
            "/tmp/ipython-input-7-450657997.py:33: SettingWithCopyWarning: \n",
            "A value is trying to be set on a copy of a slice from a DataFrame\n",
            "\n",
            "See the caveats in the documentation: https://pandas.pydata.org/pandas-docs/stable/user_guide/indexing.html#returning-a-view-versus-a-copy\n",
            "  df['target'][df['coef']<short_thold]=2 #-1\n"
          ]
        }
      ],
      "source": [
        "#@title Add target (New)\n",
        "\n",
        "STD_CORRECTOR = 2 #@param {type: \"integer\"}\n",
        "K = 4 #@param {type: \"integer\"}\n",
        "\n",
        "train_input=get_lbls(train_w_ind, K=K, std_corrector=STD_CORRECTOR)\n",
        "val_input=get_lbls(val_w_ind, K=K, std_corrector=STD_CORRECTOR)\n",
        "test_input=get_lbls(test_w_ind, K=K, std_corrector=STD_CORRECTOR)\n",
        "train_input=train_input.reset_index()\n",
        "val_input=val_input.reset_index()\n",
        "test_input=test_input.reset_index()\n",
        "\n",
        "drop_cols=[f'shift_-{i}' for i in range(K)]\n",
        "#drop_cols.append('mean_frorward')\n",
        "test_input=test_input.drop(columns=drop_cols)\n",
        "val_input=val_input.drop(columns=drop_cols)\n",
        "train_input=train_input.drop(columns=drop_cols)\n",
        "\n",
        "\n",
        "#keys=list(train_input.keys())\n",
        "#keys.append('target')\n",
        "#df.head()\n",
        "#df['target'].hist()"
      ]
    },
    {
      "cell_type": "code",
      "execution_count": null,
      "metadata": {
        "colab": {
          "background_save": true,
          "base_uri": "https://localhost:8080/",
          "height": 259
        },
        "id": "znQZRcLBBdDf",
        "outputId": "20c52493-db83-4ba6-a827-101795b50444"
      },
      "outputs": [
        {
          "data": {
            "text/plain": [
              "<Axes: >"
            ]
          },
          "execution_count": 12,
          "metadata": {},
          "output_type": "execute_result"
        },
        {
          "data": {
            "image/png": "[encoded data removed]",
            "text/plain": [
              "<Figure size 640x480 with 1 Axes>"
            ]
          },
          "metadata": {},
          "output_type": "display_data"
        }
      ],
      "source": [
        "#@title Look at class balance\n",
        "train_input['target'].hist()"
      ]
    },
    {
      "cell_type": "markdown",
      "metadata": {
        "id": "1j5XGWPZLi3Z"
      },
      "source": [
        "#Train"
      ]
    },
    {
      "cell_type": "code",
      "execution_count": null,
      "metadata": {
        "id": "R7QfJORb26WR"
      },
      "outputs": [],
      "source": [
        "#@title StandardScaler + Final split\n",
        "scaler = StandardScaler()\n",
        "\n",
        "train_target=train_input.iloc[:, -1].copy()\n",
        "train_input=train_input.iloc[:,1 : -3].copy() # -3 to exclude coef and mean_forward\n",
        "\n",
        "train_input=scaler.fit_transform(train_input)\n",
        "\n",
        "val_target=val_input.iloc[:, -1].copy()\n",
        "val_input=val_input.iloc[:,1 : -3].copy()\n",
        "val_input=scaler.transform(val_input)\n",
        "val_target=val_target.iloc[train_splitter:]\n",
        "val_input=val_input[train_splitter:]\n",
        "\n",
        "test_target=test_input.iloc[:, -1].copy()\n",
        "test_input=test_input.iloc[:,1 : -3].copy()\n",
        "test_input=scaler.transform(test_input)\n",
        "test_target=test_target.iloc[val_splitter:]\n",
        "test_input=test_input[val_splitter:]"
      ]
    },
    {
      "cell_type": "code",
      "source": [
        "pip install rgf_python"
      ],
      "metadata": {
        "colab": {
          "base_uri": "https://localhost:8080/"
        },
        "id": "Pidg9AcEFoTs",
        "outputId": "799ea76d-0db7-48f7-e3ac-42cef5d93d59"
      },
      "execution_count": 1,
      "outputs": [
        {
          "output_type": "stream",
          "name": "stdout",
          "text": [
            "Collecting rgf_python\n",
            "  Downloading rgf_python-3.12.0-py3-none-manylinux1_x86_64.whl.metadata (12 kB)\n",
            "Requirement already satisfied: joblib in /usr/local/lib/python3.11/dist-packages (from rgf_python) (1.5.1)\n",
            "Requirement already satisfied: scikit-learn>=0.18 in /usr/local/lib/python3.11/dist-packages (from rgf_python) (1.6.1)\n",
            "Requirement already satisfied: numpy>=1.19.5 in /usr/local/lib/python3.11/dist-packages (from scikit-learn>=0.18->rgf_python) (2.0.2)\n",
            "Requirement already satisfied: scipy>=1.6.0 in /usr/local/lib/python3.11/dist-packages (from scikit-learn>=0.18->rgf_python) (1.15.3)\n",
            "Requirement already satisfied: threadpoolctl>=3.1.0 in /usr/local/lib/python3.11/dist-packages (from scikit-learn>=0.18->rgf_python) (3.6.0)\n",
            "Downloading rgf_python-3.12.0-py3-none-manylinux1_x86_64.whl (757 kB)\n",
            "\u001b[2K   \u001b[90m━━━━━━━━━━━━━━━━━━━━━━━━━━━━━━━━━━━━━━━━\u001b[0m \u001b[32m757.8/757.8 kB\u001b[0m \u001b[31m9.6 MB/s\u001b[0m eta \u001b[36m0:00:00\u001b[0m\n",
            "\u001b[?25hInstalling collected packages: rgf_python\n",
            "Successfully installed rgf_python-3.12.0\n"
          ]
        }
      ]
    },
    {
      "cell_type": "code",
      "execution_count": null,
      "metadata": {
        "colab": {
          "background_save": true
        },
        "id": "KyXYsEfa-gAm",
        "outputId": "a7a7707c-8fcb-473e-8851-3a3537d7050e"
      },
      "outputs": [
        {
          "data": {
            "text/html": [
              "<style>#sk-container-id-8 {\n",
              "  /* Definition of color scheme common for light and dark mode */\n",
              "  --sklearn-color-text: #000;\n",
              "  --sklearn-color-text-muted: #666;\n",
              "  --sklearn-color-line: gray;\n",
              "  /* Definition of color scheme for unfitted estimators */\n",
              "  --sklearn-color-unfitted-level-0: #fff5e6;\n",
              "  --sklearn-color-unfitted-level-1: #f6e4d2;\n",
              "  --sklearn-color-unfitted-level-2: #ffe0b3;\n",
              "  --sklearn-color-unfitted-level-3: chocolate;\n",
              "  /* Definition of color scheme for fitted estimators */\n",
              "  --sklearn-color-fitted-level-0: #f0f8ff;\n",
              "  --sklearn-color-fitted-level-1: #d4ebff;\n",
              "  --sklearn-color-fitted-level-2: #b3dbfd;\n",
              "  --sklearn-color-fitted-level-3: cornflowerblue;\n",
              "\n",
              "  /* Specific color for light theme */\n",
              "  --sklearn-color-text-on-default-background: var(--sg-text-color, var(--theme-code-foreground, var(--jp-content-font-color1, black)));\n",
              "  --sklearn-color-background: var(--sg-background-color, var(--theme-background, var(--jp-layout-color0, white)));\n",
              "  --sklearn-color-border-box: var(--sg-text-color, var(--theme-code-foreground, var(--jp-content-font-color1, black)));\n",
              "  --sklearn-color-icon: #696969;\n",
              "\n",
              "  @media (prefers-color-scheme: dark) {\n",
              "    /* Redefinition of color scheme for dark theme */\n",
              "    --sklearn-color-text-on-default-background: var(--sg-text-color, var(--theme-code-foreground, var(--jp-content-font-color1, white)));\n",
              "    --sklearn-color-background: var(--sg-background-color, var(--theme-background, var(--jp-layout-color0, #111)));\n",
              "    --sklearn-color-border-box: var(--sg-text-color, var(--theme-code-foreground, var(--jp-content-font-color1, white)));\n",
              "    --sklearn-color-icon: #878787;\n",
              "  }\n",
              "}\n",
              "\n",
              "#sk-container-id-8 {\n",
              "  color: var(--sklearn-color-text);\n",
              "}\n",
              "\n",
              "#sk-container-id-8 pre {\n",
              "  padding: 0;\n",
              "}\n",
              "\n",
              "#sk-container-id-8 input.sk-hidden--visually {\n",
              "  border: 0;\n",
              "  clip: rect(1px 1px 1px 1px);\n",
              "  clip: rect(1px, 1px, 1px, 1px);\n",
              "  height: 1px;\n",
              "  margin: -1px;\n",
              "  overflow: hidden;\n",
              "  padding: 0;\n",
              "  position: absolute;\n",
              "  width: 1px;\n",
              "}\n",
              "\n",
              "#sk-container-id-8 div.sk-dashed-wrapped {\n",
              "  border: 1px dashed var(--sklearn-color-line);\n",
              "  margin: 0 0.4em 0.5em 0.4em;\n",
              "  box-sizing: border-box;\n",
              "  padding-bottom: 0.4em;\n",
              "  background-color: var(--sklearn-color-background);\n",
              "}\n",
              "\n",
              "#sk-container-id-8 div.sk-container {\n",
              "  /* jupyter's `normalize.less` sets `[hidden] { display: none; }`\n",
              "     but bootstrap.min.css set `[hidden] { display: none !important; }`\n",
              "     so we also need the `!important` here to be able to override the\n",
              "     default hidden behavior on the sphinx rendered scikit-learn.org.\n",
              "     See: https://github.com/scikit-learn/scikit-learn/issues/21755 */\n",
              "  display: inline-block !important;\n",
              "  position: relative;\n",
              "}\n",
              "\n",
              "#sk-container-id-8 div.sk-text-repr-fallback {\n",
              "  display: none;\n",
              "}\n",
              "\n",
              "div.sk-parallel-item,\n",
              "div.sk-serial,\n",
              "div.sk-item {\n",
              "  /* draw centered vertical line to link estimators */\n",
              "  background-image: linear-gradient(var(--sklearn-color-text-on-default-background), var(--sklearn-color-text-on-default-background));\n",
              "  background-size: 2px 100%;\n",
              "  background-repeat: no-repeat;\n",
              "  background-position: center center;\n",
              "}\n",
              "\n",
              "/* Parallel-specific style estimator block */\n",
              "\n",
              "#sk-container-id-8 div.sk-parallel-item::after {\n",
              "  content: \"\";\n",
              "  width: 100%;\n",
              "  border-bottom: 2px solid var(--sklearn-color-text-on-default-background);\n",
              "  flex-grow: 1;\n",
              "}\n",
              "\n",
              "#sk-container-id-8 div.sk-parallel {\n",
              "  display: flex;\n",
              "  align-items: stretch;\n",
              "  justify-content: center;\n",
              "  background-color: var(--sklearn-color-background);\n",
              "  position: relative;\n",
              "}\n",
              "\n",
              "#sk-container-id-8 div.sk-parallel-item {\n",
              "  display: flex;\n",
              "  flex-direction: column;\n",
              "}\n",
              "\n",
              "#sk-container-id-8 div.sk-parallel-item:first-child::after {\n",
              "  align-self: flex-end;\n",
              "  width: 50%;\n",
              "}\n",
              "\n",
              "#sk-container-id-8 div.sk-parallel-item:last-child::after {\n",
              "  align-self: flex-start;\n",
              "  width: 50%;\n",
              "}\n",
              "\n",
              "#sk-container-id-8 div.sk-parallel-item:only-child::after {\n",
              "  width: 0;\n",
              "}\n",
              "\n",
              "/* Serial-specific style estimator block */\n",
              "\n",
              "#sk-container-id-8 div.sk-serial {\n",
              "  display: flex;\n",
              "  flex-direction: column;\n",
              "  align-items: center;\n",
              "  background-color: var(--sklearn-color-background);\n",
              "  padding-right: 1em;\n",
              "  padding-left: 1em;\n",
              "}\n",
              "\n",
              "\n",
              "/* Toggleable style: style used for estimator/Pipeline/ColumnTransformer box that is\n",
              "clickable and can be expanded/collapsed.\n",
              "- Pipeline and ColumnTransformer use this feature and define the default style\n",
              "- Estimators will overwrite some part of the style using the `sk-estimator` class\n",
              "*/\n",
              "\n",
              "/* Pipeline and ColumnTransformer style (default) */\n",
              "\n",
              "#sk-container-id-8 div.sk-toggleable {\n",
              "  /* Default theme specific background. It is overwritten whether we have a\n",
              "  specific estimator or a Pipeline/ColumnTransformer */\n",
              "  background-color: var(--sklearn-color-background);\n",
              "}\n",
              "\n",
              "/* Toggleable label */\n",
              "#sk-container-id-8 label.sk-toggleable__label {\n",
              "  cursor: pointer;\n",
              "  display: flex;\n",
              "  width: 100%;\n",
              "  margin-bottom: 0;\n",
              "  padding: 0.5em;\n",
              "  box-sizing: border-box;\n",
              "  text-align: center;\n",
              "  align-items: start;\n",
              "  justify-content: space-between;\n",
              "  gap: 0.5em;\n",
              "}\n",
              "\n",
              "#sk-container-id-8 label.sk-toggleable__label .caption {\n",
              "  font-size: 0.6rem;\n",
              "  font-weight: lighter;\n",
              "  color: var(--sklearn-color-text-muted);\n",
              "}\n",
              "\n",
              "#sk-container-id-8 label.sk-toggleable__label-arrow:before {\n",
              "  /* Arrow on the left of the label */\n",
              "  content: \"▸\";\n",
              "  float: left;\n",
              "  margin-right: 0.25em;\n",
              "  color: var(--sklearn-color-icon);\n",
              "}\n",
              "\n",
              "#sk-container-id-8 label.sk-toggleable__label-arrow:hover:before {\n",
              "  color: var(--sklearn-color-text);\n",
              "}\n",
              "\n",
              "/* Toggleable content - dropdown */\n",
              "\n",
              "#sk-container-id-8 div.sk-toggleable__content {\n",
              "  max-height: 0;\n",
              "  max-width: 0;\n",
              "  overflow: hidden;\n",
              "  text-align: left;\n",
              "  /* unfitted */\n",
              "  background-color: var(--sklearn-color-unfitted-level-0);\n",
              "}\n",
              "\n",
              "#sk-container-id-8 div.sk-toggleable__content.fitted {\n",
              "  /* fitted */\n",
              "  background-color: var(--sklearn-color-fitted-level-0);\n",
              "}\n",
              "\n",
              "#sk-container-id-8 div.sk-toggleable__content pre {\n",
              "  margin: 0.2em;\n",
              "  border-radius: 0.25em;\n",
              "  color: var(--sklearn-color-text);\n",
              "  /* unfitted */\n",
              "  background-color: var(--sklearn-color-unfitted-level-0);\n",
              "}\n",
              "\n",
              "#sk-container-id-8 div.sk-toggleable__content.fitted pre {\n",
              "  /* unfitted */\n",
              "  background-color: var(--sklearn-color-fitted-level-0);\n",
              "}\n",
              "\n",
              "#sk-container-id-8 input.sk-toggleable__control:checked~div.sk-toggleable__content {\n",
              "  /* Expand drop-down */\n",
              "  max-height: 200px;\n",
              "  max-width: 100%;\n",
              "  overflow: auto;\n",
              "}\n",
              "\n",
              "#sk-container-id-8 input.sk-toggleable__control:checked~label.sk-toggleable__label-arrow:before {\n",
              "  content: \"▾\";\n",
              "}\n",
              "\n",
              "/* Pipeline/ColumnTransformer-specific style */\n",
              "\n",
              "#sk-container-id-8 div.sk-label input.sk-toggleable__control:checked~label.sk-toggleable__label {\n",
              "  color: var(--sklearn-color-text);\n",
              "  background-color: var(--sklearn-color-unfitted-level-2);\n",
              "}\n",
              "\n",
              "#sk-container-id-8 div.sk-label.fitted input.sk-toggleable__control:checked~label.sk-toggleable__label {\n",
              "  background-color: var(--sklearn-color-fitted-level-2);\n",
              "}\n",
              "\n",
              "/* Estimator-specific style */\n",
              "\n",
              "/* Colorize estimator box */\n",
              "#sk-container-id-8 div.sk-estimator input.sk-toggleable__control:checked~label.sk-toggleable__label {\n",
              "  /* unfitted */\n",
              "  background-color: var(--sklearn-color-unfitted-level-2);\n",
              "}\n",
              "\n",
              "#sk-container-id-8 div.sk-estimator.fitted input.sk-toggleable__control:checked~label.sk-toggleable__label {\n",
              "  /* fitted */\n",
              "  background-color: var(--sklearn-color-fitted-level-2);\n",
              "}\n",
              "\n",
              "#sk-container-id-8 div.sk-label label.sk-toggleable__label,\n",
              "#sk-container-id-8 div.sk-label label {\n",
              "  /* The background is the default theme color */\n",
              "  color: var(--sklearn-color-text-on-default-background);\n",
              "}\n",
              "\n",
              "/* On hover, darken the color of the background */\n",
              "#sk-container-id-8 div.sk-label:hover label.sk-toggleable__label {\n",
              "  color: var(--sklearn-color-text);\n",
              "  background-color: var(--sklearn-color-unfitted-level-2);\n",
              "}\n",
              "\n",
              "/* Label box, darken color on hover, fitted */\n",
              "#sk-container-id-8 div.sk-label.fitted:hover label.sk-toggleable__label.fitted {\n",
              "  color: var(--sklearn-color-text);\n",
              "  background-color: var(--sklearn-color-fitted-level-2);\n",
              "}\n",
              "\n",
              "/* Estimator label */\n",
              "\n",
              "#sk-container-id-8 div.sk-label label {\n",
              "  font-family: monospace;\n",
              "  font-weight: bold;\n",
              "  display: inline-block;\n",
              "  line-height: 1.2em;\n",
              "}\n",
              "\n",
              "#sk-container-id-8 div.sk-label-container {\n",
              "  text-align: center;\n",
              "}\n",
              "\n",
              "/* Estimator-specific */\n",
              "#sk-container-id-8 div.sk-estimator {\n",
              "  font-family: monospace;\n",
              "  border: 1px dotted var(--sklearn-color-border-box);\n",
              "  border-radius: 0.25em;\n",
              "  box-sizing: border-box;\n",
              "  margin-bottom: 0.5em;\n",
              "  /* unfitted */\n",
              "  background-color: var(--sklearn-color-unfitted-level-0);\n",
              "}\n",
              "\n",
              "#sk-container-id-8 div.sk-estimator.fitted {\n",
              "  /* fitted */\n",
              "  background-color: var(--sklearn-color-fitted-level-0);\n",
              "}\n",
              "\n",
              "/* on hover */\n",
              "#sk-container-id-8 div.sk-estimator:hover {\n",
              "  /* unfitted */\n",
              "  background-color: var(--sklearn-color-unfitted-level-2);\n",
              "}\n",
              "\n",
              "#sk-container-id-8 div.sk-estimator.fitted:hover {\n",
              "  /* fitted */\n",
              "  background-color: var(--sklearn-color-fitted-level-2);\n",
              "}\n",
              "\n",
              "/* Specification for estimator info (e.g. \"i\" and \"?\") */\n",
              "\n",
              "/* Common style for \"i\" and \"?\" */\n",
              "\n",
              ".sk-estimator-doc-link,\n",
              "a:link.sk-estimator-doc-link,\n",
              "a:visited.sk-estimator-doc-link {\n",
              "  float: right;\n",
              "  font-size: smaller;\n",
              "  line-height: 1em;\n",
              "  font-family: monospace;\n",
              "  background-color: var(--sklearn-color-background);\n",
              "  border-radius: 1em;\n",
              "  height: 1em;\n",
              "  width: 1em;\n",
              "  text-decoration: none !important;\n",
              "  margin-left: 0.5em;\n",
              "  text-align: center;\n",
              "  /* unfitted */\n",
              "  border: var(--sklearn-color-unfitted-level-1) 1pt solid;\n",
              "  color: var(--sklearn-color-unfitted-level-1);\n",
              "}\n",
              "\n",
              ".sk-estimator-doc-link.fitted,\n",
              "a:link.sk-estimator-doc-link.fitted,\n",
              "a:visited.sk-estimator-doc-link.fitted {\n",
              "  /* fitted */\n",
              "  border: var(--sklearn-color-fitted-level-1) 1pt solid;\n",
              "  color: var(--sklearn-color-fitted-level-1);\n",
              "}\n",
              "\n",
              "/* On hover */\n",
              "div.sk-estimator:hover .sk-estimator-doc-link:hover,\n",
              ".sk-estimator-doc-link:hover,\n",
              "div.sk-label-container:hover .sk-estimator-doc-link:hover,\n",
              ".sk-estimator-doc-link:hover {\n",
              "  /* unfitted */\n",
              "  background-color: var(--sklearn-color-unfitted-level-3);\n",
              "  color: var(--sklearn-color-background);\n",
              "  text-decoration: none;\n",
              "}\n",
              "\n",
              "div.sk-estimator.fitted:hover .sk-estimator-doc-link.fitted:hover,\n",
              ".sk-estimator-doc-link.fitted:hover,\n",
              "div.sk-label-container:hover .sk-estimator-doc-link.fitted:hover,\n",
              ".sk-estimator-doc-link.fitted:hover {\n",
              "  /* fitted */\n",
              "  background-color: var(--sklearn-color-fitted-level-3);\n",
              "  color: var(--sklearn-color-background);\n",
              "  text-decoration: none;\n",
              "}\n",
              "\n",
              "/* Span, style for the box shown on hovering the info icon */\n",
              ".sk-estimator-doc-link span {\n",
              "  display: none;\n",
              "  z-index: 9999;\n",
              "  position: relative;\n",
              "  font-weight: normal;\n",
              "  right: .2ex;\n",
              "  padding: .5ex;\n",
              "  margin: .5ex;\n",
              "  width: min-content;\n",
              "  min-width: 20ex;\n",
              "  max-width: 50ex;\n",
              "  color: var(--sklearn-color-text);\n",
              "  box-shadow: 2pt 2pt 4pt #999;\n",
              "  /* unfitted */\n",
              "  background: var(--sklearn-color-unfitted-level-0);\n",
              "  border: .5pt solid var(--sklearn-color-unfitted-level-3);\n",
              "}\n",
              "\n",
              ".sk-estimator-doc-link.fitted span {\n",
              "  /* fitted */\n",
              "  background: var(--sklearn-color-fitted-level-0);\n",
              "  border: var(--sklearn-color-fitted-level-3);\n",
              "}\n",
              "\n",
              ".sk-estimator-doc-link:hover span {\n",
              "  display: block;\n",
              "}\n",
              "\n",
              "/* \"?\"-specific style due to the `<a>` HTML tag */\n",
              "\n",
              "#sk-container-id-8 a.estimator_doc_link {\n",
              "  float: right;\n",
              "  font-size: 1rem;\n",
              "  line-height: 1em;\n",
              "  font-family: monospace;\n",
              "  background-color: var(--sklearn-color-background);\n",
              "  border-radius: 1rem;\n",
              "  height: 1rem;\n",
              "  width: 1rem;\n",
              "  text-decoration: none;\n",
              "  /* unfitted */\n",
              "  color: var(--sklearn-color-unfitted-level-1);\n",
              "  border: var(--sklearn-color-unfitted-level-1) 1pt solid;\n",
              "}\n",
              "\n",
              "#sk-container-id-8 a.estimator_doc_link.fitted {\n",
              "  /* fitted */\n",
              "  border: var(--sklearn-color-fitted-level-1) 1pt solid;\n",
              "  color: var(--sklearn-color-fitted-level-1);\n",
              "}\n",
              "\n",
              "/* On hover */\n",
              "#sk-container-id-8 a.estimator_doc_link:hover {\n",
              "  /* unfitted */\n",
              "  background-color: var(--sklearn-color-unfitted-level-3);\n",
              "  color: var(--sklearn-color-background);\n",
              "  text-decoration: none;\n",
              "}\n",
              "\n",
              "#sk-container-id-8 a.estimator_doc_link.fitted:hover {\n",
              "  /* fitted */\n",
              "  background-color: var(--sklearn-color-fitted-level-3);\n",
              "}\n",
              "</style><div id=\"sk-container-id-8\" class=\"sk-top-container\"><div class=\"sk-text-repr-fallback\"><pre>VotingClassifier(estimators=[(&#x27;CatBoost&#x27;,\n",
              "                              &lt;catboost.core.CatBoostClassifier object at 0x79e513508c50&gt;)],\n",
              "                 voting=&#x27;soft&#x27;)</pre><b>In a Jupyter environment, please rerun this cell to show the HTML representation or trust the notebook. <br />On GitHub, the HTML representation is unable to render, please try loading this page with nbviewer.org.</b></div><div class=\"sk-container\" hidden><div class=\"sk-item sk-dashed-wrapped\"><div class=\"sk-label-container\"><div class=\"sk-label fitted sk-toggleable\"><input class=\"sk-toggleable__control sk-hidden--visually\" id=\"sk-estimator-id-17\" type=\"checkbox\" ><label for=\"sk-estimator-id-17\" class=\"sk-toggleable__label fitted sk-toggleable__label-arrow\"><div><div>VotingClassifier</div></div><div><a class=\"sk-estimator-doc-link fitted\" rel=\"noreferrer\" target=\"_blank\" href=\"https://scikit-learn.org/1.6/modules/generated/sklearn.ensemble.VotingClassifier.html\">?<span>Documentation for VotingClassifier</span></a><span class=\"sk-estimator-doc-link fitted\">i<span>Fitted</span></span></div></label><div class=\"sk-toggleable__content fitted\"><pre>VotingClassifier(estimators=[(&#x27;CatBoost&#x27;,\n",
              "                              &lt;catboost.core.CatBoostClassifier object at 0x79e513508c50&gt;)],\n",
              "                 voting=&#x27;soft&#x27;)</pre></div> </div></div><div class=\"sk-parallel\"><div class=\"sk-parallel-item\"><div class=\"sk-item\"><div class=\"sk-label-container\"><div class=\"sk-label fitted sk-toggleable\"><label>CatBoost</label></div></div><div class=\"sk-serial\"><div class=\"sk-item\"><div class=\"sk-estimator fitted sk-toggleable\"><input class=\"sk-toggleable__control sk-hidden--visually\" id=\"sk-estimator-id-18\" type=\"checkbox\" ><label for=\"sk-estimator-id-18\" class=\"sk-toggleable__label fitted sk-toggleable__label-arrow\"><div><div>CatBoostClassifier</div></div></label><div class=\"sk-toggleable__content fitted\"><pre>&lt;catboost.core.CatBoostClassifier object at 0x79e513508c50&gt;</pre></div> </div></div></div></div></div></div></div></div></div>"
            ],
            "text/plain": [
              "VotingClassifier(estimators=[('CatBoost',\n",
              "                              <catboost.core.CatBoostClassifier object at 0x79e513508c50>)],\n",
              "                 voting='soft')"
            ]
          },
          "execution_count": 66,
          "metadata": {},
          "output_type": "execute_result"
        }
      ],
      "source": [
        "#@title Set models and Run train\n",
        "\n",
        "\n",
        "catboost_classifier = CatBoostClassifier(\n",
        "    iterations=1000,\n",
        "    learning_rate=0.15,\n",
        "    depth=12,\n",
        "    rsm=0.9,\n",
        "    boosting_type='Ordered',\n",
        "    class_weights=[3, 5, 4],  # порядок: [0, 1, 2]\n",
        "    random_seed=42,\n",
        "    verbose=0\n",
        ")\n",
        "\n",
        "classifiers = [\n",
        "               ('CatBoost', catboost_classifier)\n",
        "               ]\n",
        "\n",
        "voting_classifier = VotingClassifier(estimators=classifiers, voting='soft')\n",
        "\n",
        "# если ты хочешь, чтобы веса работали и в GradientBoostingClassifier, — добавь:\n",
        "from sklearn.utils.class_weight import compute_sample_weight\n",
        "sample_w = compute_sample_weight(class_weight={0: 3, 1: 5, 2: 4}, y=train_target)\n",
        "\n",
        "# Train the VotingClassifier on the training data\n",
        "voting_classifier.fit(train_input, train_target, sample_weight=sample_w)"
      ]
    },
    {
      "cell_type": "code",
      "execution_count": null,
      "metadata": {
        "colab": {
          "base_uri": "https://localhost:8080/",
          "height": 396
        },
        "id": "Cym_E-sRDyXZ",
        "outputId": "6749f309-29c4-4b05-e590-c2c366510a24"
      },
      "outputs": [
        {
          "name": "stdout",
          "output_type": "stream",
          "text": [
            "0:\tlearn: 1.0355683\ttotal: 781ms\tremaining: 13m\n",
            "100:\tlearn: 0.7175105\ttotal: 29.8s\tremaining: 4m 25s\n",
            "200:\tlearn: 0.6294505\ttotal: 56.8s\tremaining: 3m 45s\n",
            "300:\tlearn: 0.5589113\ttotal: 1m 23s\tremaining: 3m 14s\n",
            "400:\tlearn: 0.5021313\ttotal: 1m 50s\tremaining: 2m 45s\n",
            "500:\tlearn: 0.4520183\ttotal: 2m 17s\tremaining: 2m 17s\n",
            "600:\tlearn: 0.4092235\ttotal: 2m 44s\tremaining: 1m 49s\n",
            "700:\tlearn: 0.3728492\ttotal: 3m 11s\tremaining: 1m 21s\n",
            "800:\tlearn: 0.3403479\ttotal: 3m 38s\tremaining: 54.3s\n",
            "900:\tlearn: 0.3121002\ttotal: 4m 5s\tremaining: 27s\n",
            "999:\tlearn: 0.2884316\ttotal: 4m 32s\tremaining: 0us\n"
          ]
        },
        {
          "data": {
            "image/png": "[encoded data removed]",
            "text/plain": [
              "<Figure size 1000x500 with 1 Axes>"
            ]
          },
          "metadata": {},
          "output_type": "display_data"
        },
        {
          "name": "stdout",
          "output_type": "stream",
          "text": [
            "Точность модели CatBoost: 0.5879\n"
          ]
        }
      ],
      "source": [
        "from catboost import CatBoostClassifier\n",
        "from sklearn.metrics import accuracy_score, classification_report, confusion_matrix, ConfusionMatrixDisplay\n",
        "import matplotlib.pyplot as plt\n",
        "import numpy as np\n",
        "import pandas as pd\n",
        "\n",
        "# Обучение модели\n",
        "catboost_classifier = CatBoostClassifier(\n",
        "    iterations=1000,\n",
        "    learning_rate=0.15,\n",
        "    depth=6,\n",
        "    rsm=0.9,\n",
        "    boosting_type='Ordered',\n",
        "\n",
        "    class_weights=[2, 3, 3],  # [0, 1, 2]\n",
        "    verbose=100,\n",
        "    random_state=42\n",
        ")\n",
        "\n",
        "catboost_classifier.fit(train_input, train_target)\n",
        "\n",
        "# Предсказания и вероятности\n",
        "X_full = np.vstack((val_input, test_input))\n",
        "y_full = np.hstack((val_target.values, test_target.values))\n",
        "\n",
        "probs = catboost_classifier.predict_proba(X_full)\n",
        "preds = catboost_classifier.predict(X_full)\n",
        "confidences = probs.max(axis=1)\n",
        "correct_mask = (preds.reshape(-1) == y_full)\n",
        "\n",
        "# DataFrame для анализа\n",
        "cb_results = pd.DataFrame({\n",
        "    'true': y_full,\n",
        "    'pred': preds.reshape(-1),\n",
        "    'confidence': confidences,\n",
        "    'correct': correct_mask\n",
        "})\n",
        "\n",
        "# Гистограмма\n",
        "plt.figure(figsize=(10, 5))\n",
        "plt.hist(cb_results[cb_results['correct']]['confidence'], bins=30, alpha=0.5, label='Правильно', color='green')\n",
        "plt.hist(cb_results[~cb_results['correct']]['confidence'], bins=30, alpha=0.5, label='Ошибка', color='red')\n",
        "plt.xlabel('Уверенность (confidence)')\n",
        "plt.ylabel('Количество примеров')\n",
        "plt.title('Распределение уверенности CatBoostClassifier')\n",
        "plt.legend()\n",
        "plt.grid(True)\n",
        "plt.tight_layout()\n",
        "plt.show()\n",
        "\n",
        "# Метрика точности для справки\n",
        "acc_cb = accuracy_score(y_full, preds)\n",
        "print(f\"Точность модели CatBoost: {acc_cb:.4f}\")"
      ]
    },
    {
      "cell_type": "code",
      "execution_count": null,
      "metadata": {
        "colab": {
          "base_uri": "https://localhost:8080/",
          "height": 626
        },
        "id": "u6hKFG_I6BbJ",
        "outputId": "8c76cb29-7746-4acc-8118-e56147c79be6"
      },
      "outputs": [
        {
          "name": "stdout",
          "output_type": "stream",
          "text": [
            "Ensemble Accuracy: 0.5859969558599696\n",
            "Classification Report (Entire Dataset):\n",
            "              precision    recall  f1-score   support\n",
            "\n",
            "           0       0.55      0.32      0.40       896\n",
            "           1       0.58      0.77      0.66       844\n",
            "           2       0.61      0.68      0.65       888\n",
            "\n",
            "    accuracy                           0.59      2628\n",
            "   macro avg       0.58      0.59      0.57      2628\n",
            "weighted avg       0.58      0.59      0.57      2628\n",
            "\n",
            "Confusion Matrix (Entire Dataset):\n",
            "[[285 326 285]\n",
            " [ 96 648 100]\n",
            " [134 147 607]]\n",
            "Confusion Matrix - Entire Dataset:\n"
          ]
        },
        {
          "data": {
            "text/plain": [
              "<sklearn.metrics._plot.confusion_matrix.ConfusionMatrixDisplay at 0x79e50be5c310>"
            ]
          },
          "execution_count": 67,
          "metadata": {},
          "output_type": "execute_result"
        },
        {
          "data": {
            "image/png": "[encoded data removed]",
            "text/plain": [
              "<Figure size 640x480 with 2 Axes>"
            ]
          },
          "metadata": {},
          "output_type": "display_data"
        }
      ],
      "source": [
        "#@title Test (new) (StandartSclaer)\n",
        "pred_target = voting_classifier.predict(np.vstack((val_input,test_input)))\n",
        "accuracy = accuracy_score(np.hstack((val_target.values, test_target.values)), pred_target)\n",
        "print(\"Ensemble Accuracy:\", accuracy)\n",
        "\n",
        "\n",
        "print(\"Classification Report (Entire Dataset):\")\n",
        "print(classification_report(np.hstack((val_target.values, test_target.values)), pred_target))\n",
        "print(\"Confusion Matrix (Entire Dataset):\")\n",
        "print(confusion_matrix(np.hstack((val_target.values, test_target.values)), pred_target))\n",
        "cm_target = confusion_matrix(np.hstack((val_target.values, test_target.values)), pred_target)\n",
        "print(\"Confusion Matrix - Entire Dataset:\")\n",
        "ConfusionMatrixDisplay(cm_target).plot()"
      ]
    },
    {
      "cell_type": "code",
      "execution_count": null,
      "metadata": {
        "colab": {
          "base_uri": "https://localhost:8080/"
        },
        "id": "8K1nKRwshcVQ",
        "outputId": "f3ffa402-2cf0-4435-effe-42d3f7cec7fe"
      },
      "outputs": [
        {
          "data": {
            "text/plain": [
              "['voting_classifier_110420255.pkl']"
            ]
          },
          "execution_count": 68,
          "metadata": {},
          "output_type": "execute_result"
        }
      ],
      "source": [
        "#@title Save VC\n",
        "joblib.dump(voting_classifier, 'voting_classifier_110420255.pkl')"
      ]
    },
    {
      "cell_type": "markdown",
      "metadata": {
        "id": "vaObeDv3JdIY"
      },
      "source": [
        "#Spliting test array to test1 as val and test2 as main test. Using val to search right confidence"
      ]
    },
    {
      "cell_type": "code",
      "execution_count": null,
      "metadata": {
        "colab": {
          "base_uri": "https://localhost:8080/"
        },
        "id": "ydJ1AEEu_BGP",
        "outputId": "7a8114c9-dff7-4d34-d1ac-ce076a9dbe6c"
      },
      "outputs": [
        {
          "name": "stdout",
          "output_type": "stream",
          "text": [
            "   prob_class_0  prob_class_1  prob_class_2  true_target  predicted_target  \\\n",
            "0      0.089057      0.290109      0.620834            0                 2   \n",
            "1      0.116003      0.667041      0.216956            1                 1   \n",
            "2      0.033351      0.883289      0.083360            1                 1   \n",
            "3      0.050114      0.926065      0.023821            0                 1   \n",
            "4      0.136630      0.599645      0.263725            2                 1   \n",
            "\n",
            "   confidence  correct  ratio_max_second  \n",
            "0    0.620834    False          2.140002  \n",
            "1    0.667041     True          3.074537  \n",
            "2    0.883289     True         10.596040  \n",
            "3    0.926065    False         18.479179  \n",
            "4    0.599645    False          2.273746  \n"
          ]
        }
      ],
      "source": [
        "predicted_classes = voting_classifier.predict(val_input)\n",
        "predicted_probs = voting_classifier.predict_proba(val_input)\n",
        "\n",
        "n_classes = predicted_probs.shape[1]\n",
        "results_df = pd.DataFrame(predicted_probs, columns=[f'prob_class_{i}' for i in range(n_classes)])\n",
        "\n",
        "# Добавляем истинные и предсказанные метки\n",
        "results_df['true_target'] = val_target.values\n",
        "results_df['predicted_target'] = predicted_classes\n",
        "\n",
        "# Вычисляем уверенность: максимальное значение вероятности для каждого примера\n",
        "results_df['confidence'] = predicted_probs.max(axis=1)\n",
        "\n",
        "# Флаг: предсказание правильное или нет\n",
        "results_df['correct'] = results_df['true_target'] == results_df['predicted_target']\n",
        "\n",
        "# Вычисляем соотношение между максимальной и второй по величине вероятностью\n",
        "# Сначала сортируем вероятности по каждой строке\n",
        "sorted_probs = np.sort(predicted_probs, axis=1)\n",
        "# Последний столбец — максимальное значение, предпоследний — второй максимум.\n",
        "results_df['ratio_max_second'] = sorted_probs[:, -1] / sorted_probs[:, -2]\n",
        "\n",
        "print(results_df.head())"
      ]
    },
    {
      "cell_type": "code",
      "execution_count": null,
      "metadata": {
        "colab": {
          "base_uri": "https://localhost:8080/"
        },
        "id": "BWOiNbI8_wX5",
        "outputId": "303edcf8-c08e-4552-84cc-baed6ca18b5d"
      },
      "outputs": [
        {
          "name": "stdout",
          "output_type": "stream",
          "text": [
            "Средняя уверенность на верных предсказаниях: 0.8320384814756793\n",
            "Средняя уверенность на ошибочных предсказаниях: 0.7348851062342647\n",
            "Среднее соотношение (макс/второй максимум) на верных предсказаниях: 322.5722732468054\n",
            "Среднее соотношение (макс/второй максимум) на ошибочных предсказаниях: 33.03578374366892\n"
          ]
        }
      ],
      "source": [
        "# Средняя уверенность\n",
        "mean_confidence_correct = results_df[results_df['correct']]['confidence'].mean()\n",
        "mean_confidence_wrong = results_df[~results_df['correct']]['confidence'].mean()\n",
        "\n",
        "print(\"Средняя уверенность на верных предсказаниях:\", mean_confidence_correct)\n",
        "print(\"Средняя уверенность на ошибочных предсказаниях:\", mean_confidence_wrong)\n",
        "\n",
        "# Среднее соотношение вероятностей (макс/второй максимум)\n",
        "mean_ratio_correct = results_df[results_df['correct']]['ratio_max_second'].mean()\n",
        "mean_ratio_wrong = results_df[~results_df['correct']]['ratio_max_second'].mean()\n",
        "\n",
        "print(\"Среднее соотношение (макс/второй максимум) на верных предсказаниях:\", mean_ratio_correct)\n",
        "print(\"Среднее соотношение (макс/второй максимум) на ошибочных предсказаниях:\", mean_ratio_wrong)"
      ]
    },
    {
      "cell_type": "code",
      "execution_count": null,
      "metadata": {
        "colab": {
          "base_uri": "https://localhost:8080/",
          "height": 185
        },
        "id": "jA4l19YiABqr",
        "outputId": "396ccdd4-bafe-48cb-ea92-28e396a2f179"
      },
      "outputs": [
        {
          "data": {
            "image/png": "[encoded data removed]",
            "text/plain": [
              "<Figure size 1000x500 with 1 Axes>"
            ]
          },
          "metadata": {},
          "output_type": "display_data"
        }
      ],
      "source": [
        " plt.figure(figsize=(10, 5))\n",
        "\n",
        "# Гистограмма для верных предсказаний\n",
        "plt.hist(results_df[results_df['correct']]['confidence'], bins=30, alpha=0.5, label='Верно')\n",
        "\n",
        "# Гистограмма для ошибочных предсказаний\n",
        "plt.hist(results_df[~results_df['correct']]['confidence'], bins=30, alpha=0.5, label='Ошибка')\n",
        "\n",
        "plt.xlabel('Уверенность (макс. вероятность)')\n",
        "plt.ylabel('Количество примеров')\n",
        "plt.title('Распределение уверенности модели')\n",
        "plt.legend()\n",
        "plt.show()"
      ]
    },
    {
      "cell_type": "code",
      "execution_count": null,
      "metadata": {
        "colab": {
          "base_uri": "https://localhost:8080/",
          "height": 359
        },
        "id": "GEBP0TP7GAYC",
        "outputId": "95a48962-3fb4-4a0a-dcca-318a30187405"
      },
      "outputs": [
        {
          "data": {
            "image/png": "[encoded data removed]",
            "text/plain": [
              "<Figure size 1000x500 with 1 Axes>"
            ]
          },
          "metadata": {},
          "output_type": "display_data"
        },
        {
          "name": "stdout",
          "output_type": "stream",
          "text": [
            "--- Уверенность > 0.905 ---\n",
            "Всего примеров: 317\n",
            "Верных предсказаний: 254 (80.13%)\n",
            "Ошибок: 63 (19.87%)\n",
            "\n",
            "--- Уверенность > 0.95 ---\n",
            "Всего примеров: 196\n",
            "Верных предсказаний: 163 (83.16%)\n",
            "Ошибок: 33 (16.84%)\n",
            "\n"
          ]
        }
      ],
      "source": [
        "import matplotlib.pyplot as plt\n",
        "\n",
        "# Гистограмма\n",
        "plt.figure(figsize=(10, 5))\n",
        "plt.hist(results_df[results_df['correct']]['confidence'], bins=30, alpha=0.5, label='Верно')\n",
        "plt.hist(results_df[~results_df['correct']]['confidence'], bins=30, alpha=0.5, label='Ошибка')\n",
        "\n",
        "plt.xlabel('Уверенность (макс. вероятность)')\n",
        "plt.ylabel('Количество примеров')\n",
        "plt.title('Распределение уверенности модели')\n",
        "plt.legend()\n",
        "plt.show()\n",
        "\n",
        "# Анализ при разных порогах уверенности\n",
        "for threshold in [0.905, 0.95]:\n",
        "    subset = results_df[results_df['confidence'] > threshold]\n",
        "    total = len(subset)\n",
        "    correct = subset['correct'].sum()\n",
        "    incorrect = total - correct\n",
        "    accuracy = correct / total * 100 if total > 0 else 0\n",
        "    error_rate = incorrect / total * 100 if total > 0 else 0\n",
        "\n",
        "    print(f'--- Уверенность > {threshold} ---')\n",
        "    print(f'Всего примеров: {total}')\n",
        "    print(f'Верных предсказаний: {correct} ({accuracy:.2f}%)')\n",
        "    print(f'Ошибок: {incorrect} ({error_rate:.2f}%)\\n')"
      ]
    },
    {
      "cell_type": "code",
      "execution_count": null,
      "metadata": {
        "colab": {
          "base_uri": "https://localhost:8080/",
          "height": 185
        },
        "id": "DrV-Nn2ZAJWh",
        "outputId": "41b0e105-5620-4fb8-fb87-7aa35963af13"
      },
      "outputs": [
        {
          "data": {
            "image/png": "[encoded data removed]",
            "text/plain": [
              "<Figure size 1000x500 with 1 Axes>"
            ]
          },
          "metadata": {},
          "output_type": "display_data"
        }
      ],
      "source": [
        "plt.figure(figsize=(10, 5))\n",
        "\n",
        "plt.hist(results_df[results_df['correct']]['ratio_max_second'], bins=30, alpha=0.5, label='Верно')\n",
        "plt.hist(results_df[~results_df['correct']]['ratio_max_second'], bins=30, alpha=0.5, label='Ошибка')\n",
        "\n",
        "plt.xlabel('Соотношение: макс / второй максимум')\n",
        "plt.ylabel('Количество примеров')\n",
        "plt.title('Распределение соотношения вероятностей')\n",
        "plt.legend()\n",
        "plt.show()"
      ]
    },
    {
      "cell_type": "markdown",
      "metadata": {
        "id": "FjeHsEZ2Khy1"
      },
      "source": [
        "#Using test with val confidence to predict classes 1 and 2"
      ]
    },
    {
      "cell_type": "code",
      "execution_count": null,
      "metadata": {
        "colab": {
          "base_uri": "https://localhost:8080/"
        },
        "id": "LPO-YWhGFUdF",
        "outputId": "d3cb5ad6-11ef-4a19-a315-7046b60ace59"
      },
      "outputs": [
        {
          "name": "stdout",
          "output_type": "stream",
          "text": [
            "   prob_class_0  prob_class_1  prob_class_2  true_target  predicted_target  \\\n",
            "0      0.981563      0.007710      0.010728            2                 0   \n",
            "1      0.976206      0.004207      0.019588            2                 0   \n",
            "2      0.170723      0.174042      0.655234            2                 2   \n",
            "3      0.047186      0.008111      0.944704            2                 2   \n",
            "4      0.004361      0.000436      0.995204            2                 2   \n",
            "\n",
            "   confidence  correct  ratio_max_second  \n",
            "0    0.981563    False         91.499405  \n",
            "1    0.976206    False         49.837297  \n",
            "2    0.655234     True          3.764799  \n",
            "3    0.944704     True         20.020934  \n",
            "4    0.995204     True        228.230958  \n"
          ]
        }
      ],
      "source": [
        "predicted_classes2 = voting_classifier.predict(test_input)\n",
        "predicted_probs2 = voting_classifier.predict_proba(test_input)\n",
        "\n",
        "n_classes = predicted_probs2.shape[1]\n",
        "results_df2 = pd.DataFrame(predicted_probs2, columns=[f'prob_class_{i}' for i in range(n_classes)])\n",
        "\n",
        "# Добавляем истинные и предсказанные метки\n",
        "results_df2['true_target'] = test_target.values\n",
        "results_df2['predicted_target'] = predicted_classes2\n",
        "\n",
        "# Вычисляем уверенность: максимальное значение вероятности для каждого примера\n",
        "results_df2['confidence'] = predicted_probs2.max(axis=1)\n",
        "\n",
        "# Флаг: предсказание правильное или нет\n",
        "results_df2['correct'] = results_df2['true_target'] == results_df2['predicted_target']\n",
        "\n",
        "sorted_probs = np.sort(predicted_probs2, axis=1)\n",
        "# Последний столбец — максимальное значение, предпоследний — второй максимум.\n",
        "results_df2['ratio_max_second'] = sorted_probs[:, -1] / sorted_probs[:, -2]\n",
        "\n",
        "print(results_df2.head())"
      ]
    },
    {
      "cell_type": "code",
      "execution_count": null,
      "metadata": {
        "colab": {
          "base_uri": "https://localhost:8080/"
        },
        "id": "1tg5yDlGGaAa",
        "outputId": "a440497d-a46f-44a2-f43f-02f2d9d00d1e"
      },
      "outputs": [
        {
          "name": "stdout",
          "output_type": "stream",
          "text": [
            "Всего наблюдений в второй части тестовой выборки: 2628\n",
            "Всего меток 1 и 2 проставлено моделью: 878\n",
            "Всего меток, проставленных моделью, осталось после фильтрации: 557\n",
            "\n",
            "Точность для классов 1 и 2 при уверенности > 0.8878277140038339: 0.8168761220825853\n"
          ]
        }
      ],
      "source": [
        "filtered_df = results_df2[(results_df2['true_target'].isin([1, 2])) & (results_df2['confidence'] > mean_confidence_correct)]\n",
        "accuracy_filtered = filtered_df['correct'].mean()\n",
        "\n",
        "print('Всего наблюдений в второй части тестовой выборки: '+str(len(np.vstack((val_input,test_input)))))\n",
        "print('Всего меток 1 и 2 проставлено моделью: '+str(len(results_df2[(results_df2['true_target'].isin([1, 2]))])))\n",
        "print('Всего меток, проставленных моделью, осталось после фильтрации: '+str(len(filtered_df)))\n",
        "print()\n",
        "print(f\"Точность для классов 1 и 2 при уверенности > {mean_confidence_correct}:\", accuracy_filtered)"
      ]
    },
    {
      "cell_type": "code",
      "source": [
        "!pip install rgf_python fast_rgf"
      ],
      "metadata": {
        "colab": {
          "base_uri": "https://localhost:8080/"
        },
        "id": "8hV2Bfbcg65J",
        "outputId": "516e4a6b-977f-4529-b714-fe58633194e8"
      },
      "execution_count": null,
      "outputs": [
        {
          "metadata": {
            "tags": null
          },
          "name": "stdout",
          "output_type": "stream",
          "text": [
            "Collecting rgf_python\n",
            "  Using cached rgf_python-3.12.0-py3-none-manylinux1_x86_64.whl.metadata (12 kB)\n",
            "\u001b[31mERROR: Could not find a version that satisfies the requirement fast_rgf (from versions: none)\u001b[0m\u001b[31m\n",
            "\u001b[0m\u001b[31mERROR: No matching distribution found for fast_rgf\u001b[0m\u001b[31m\n",
            "\u001b[0m"
          ]
        }
      ]
    },
    {
      "cell_type": "code",
      "source": [
        "#@title Тестирование новейшей модели TabPFN (без необходимости в настройке)\n",
        "\n",
        "!pip install tabpfn -q\n",
        "\n",
        "from tabpfn import TabPFNClassifier\n",
        "from sklearn.metrics import accuracy_score, classification_report\n",
        "import pandas as pd\n",
        "import numpy as np\n",
        "\n",
        "print(\"--- Обучение и оценка TabPFN ---\")\n",
        "\n",
        "# Преобразуем train_input и train_target в DataFrame/Series, если они numpy-массивы\n",
        "if isinstance(train_input, np.ndarray):\n",
        "    train_input_df = pd.DataFrame(train_input)\n",
        "else:\n",
        "    train_input_df = train_input.copy()\n",
        "\n",
        "if isinstance(train_target, np.ndarray):\n",
        "    train_target_series = pd.Series(train_target.flatten())\n",
        "else:\n",
        "    train_target_series = train_target.copy()\n",
        "\n",
        "# Создаем DataFrame с целевой колонкой\n",
        "train_df = train_input_df.copy()\n",
        "train_df['__target__'] = train_target_series.values  # используем .values чтобы не было проблем с индексами\n",
        "\n",
        "# Оставляем только числовые колонки (на всякий случай)\n",
        "train_df = train_df.select_dtypes(include=[np.number])\n",
        "\n",
        "# Удаляем строки с пропусками\n",
        "train_df = train_df.dropna()\n",
        "\n",
        "train_target_clean = train_df['__target__']\n",
        "train_input_clean = train_df.drop(columns='__target__')\n",
        "\n",
        "# То же для теста\n",
        "if isinstance(test_input, np.ndarray):\n",
        "    test_input_df = pd.DataFrame(test_input)\n",
        "else:\n",
        "    test_input_df = test_input.copy()\n",
        "\n",
        "if isinstance(test_target, np.ndarray):\n",
        "    test_target_series = pd.Series(test_target.flatten())\n",
        "else:\n",
        "    test_target_series = test_target.copy()\n",
        "\n",
        "test_df = test_input_df.copy()\n",
        "test_df['__target__'] = test_target_series.values\n",
        "\n",
        "test_df = test_df.select_dtypes(include=[np.number])\n",
        "test_df = test_df.dropna()\n",
        "\n",
        "test_target_clean = test_df['__target__']\n",
        "test_input_clean = test_df.drop(columns='__target__')\n",
        "\n",
        "# Инициализация модели с обходом ограничения по размеру на CPU\n",
        "tabpfn_classifier = TabPFNClassifier(device='cuda', ignore_pretraining_limits=True)\n",
        "\n",
        "# Обучение\n",
        "tabpfn_classifier.fit(train_input_clean, train_target_clean)\n",
        "\n",
        "# Предсказания\n",
        "predicted_classes_tabpfn = tabpfn_classifier.predict(test_input_clean)\n",
        "\n",
        "# Оценка\n",
        "accuracy_tabpfn = accuracy_score(test_target_clean.values, predicted_classes_tabpfn)\n",
        "\n",
        "print(f\"\\nОбщая точность модели TabPFN: {accuracy_tabpfn:.4f}\")\n",
        "print(\"\\nОтчет по классификации для TabPFN:\")\n",
        "print(classification_report(test_target_clean.values, predicted_classes_tabpfn))\n",
        "\n",
        "print(\"\\n\" + \"---\" * 10 + \"\\n\")\n",
        "print(\"Тестирование TabPFN завершено. Эта модель — современный метод классификации табличных данных,\")\n",
        "print(\"требующий минимального вмешательства со стороны пользователя.\")"
      ],
      "metadata": {
        "colab": {
          "base_uri": "https://localhost:8080/"
        },
        "id": "33K8zPevjGv0",
        "outputId": "d57589e4-b0f0-4e27-fab7-42a5a20f60ad"
      },
      "execution_count": null,
      "outputs": [
        {
          "output_type": "stream",
          "name": "stdout",
          "text": [
            "--- Обучение и оценка TabPFN ---\n",
            "\n",
            "Общая точность модели TabPFN: 0.6008\n",
            "\n",
            "Отчет по классификации для TabPFN:\n",
            "              precision    recall  f1-score   support\n",
            "\n",
            "           0       0.47      0.39      0.43       417\n",
            "           1       0.66      0.72      0.68       459\n",
            "           2       0.64      0.68      0.66       454\n",
            "\n",
            "    accuracy                           0.60      1330\n",
            "   macro avg       0.59      0.59      0.59      1330\n",
            "weighted avg       0.59      0.60      0.59      1330\n",
            "\n",
            "\n",
            "------------------------------\n",
            "\n",
            "Тестирование TabPFN завершено. Эта модель — современный метод классификации табличных данных,\n",
            "требующий минимального вмешательства со стороны пользователя.\n"
          ]
        }
      ]
    },
    {
      "cell_type": "code",
      "source": [],
      "metadata": {
        "id": "2eBGqyLEETKc"
      },
      "execution_count": null,
      "outputs": []
    },
    {
      "cell_type": "code",
      "source": [
        "import matplotlib.pyplot as plt\n",
        "import numpy as np\n",
        "import pandas as pd\n",
        "\n",
        "# Получаем вероятности предсказаний\n",
        "probs = tabpfn_classifier.predict_proba(test_input_clean)\n",
        "\n",
        "# Максимальная уверенность (confidence) для каждого примера\n",
        "confidences = np.max(probs, axis=1)\n",
        "\n",
        "# Метки предсказаний\n",
        "preds = np.argmax(probs, axis=1)\n",
        "\n",
        "# Флаг правильности предсказания\n",
        "correct_mask = (preds == test_target_clean.values)\n",
        "\n",
        "# Создаем DataFrame для удобства анализа\n",
        "df_conf = pd.DataFrame({\n",
        "    'confidence': confidences,\n",
        "    'correct': correct_mask\n",
        "})\n",
        "\n",
        "plt.figure(figsize=(10,6))\n",
        "plt.hist(df_conf[df_conf['correct']]['confidence'], bins=30, alpha=0.6, label='Правильные', color='green')\n",
        "plt.hist(df_conf[~df_conf['correct']]['confidence'], bins=30, alpha=0.6, label='Ошибки', color='red')\n",
        "plt.xlabel('Уверенность предсказания')\n",
        "plt.ylabel('Количество примеров')\n",
        "plt.title('Распределение уверенности предсказаний TabPFN')\n",
        "plt.legend()\n",
        "plt.grid(True)\n",
        "plt.show()"
      ],
      "metadata": {
        "colab": {
          "base_uri": "https://localhost:8080/",
          "height": 215
        },
        "id": "hqA1jnX7sahd",
        "outputId": "f518c6d7-6650-4039-a372-69505f3d1001"
      },
      "execution_count": null,
      "outputs": [
        {
          "output_type": "display_data",
          "data": {
            "text/plain": [
              "<Figure size 1000x600 with 1 Axes>"
            ],
            "image/png": "[encoded data removed]"
          },
          "metadata": {}
        }
      ]
    },
    {
      "cell_type": "code",
      "source": [
        "thresholds = [0.7, 0.8, 0.9]\n",
        "\n",
        "for thresh in thresholds:\n",
        "    mask = confidences >= thresh\n",
        "    total = np.sum(mask)\n",
        "    if total == 0:\n",
        "        print(f\"Confidence >= {thresh}: Нет предсказаний\")\n",
        "        continue\n",
        "    correct = np.sum(correct_mask[mask])\n",
        "    incorrect = total - correct\n",
        "    accuracy = correct / total\n",
        "    print(f\"Confidence >= {thresh}:\")\n",
        "    print(f\"  Всего предсказаний: {total}\")\n",
        "    print(f\"  Правильных: {correct}\")\n",
        "    print(f\"  Ошибок: {incorrect}\")\n",
        "    print(f\"  Точность: {accuracy:.4f}\\n\")"
      ],
      "metadata": {
        "colab": {
          "base_uri": "https://localhost:8080/"
        },
        "id": "eqMARo4PtFA8",
        "outputId": "357f265a-6ca1-4cdb-8cfe-cf37fbf937b0"
      },
      "execution_count": null,
      "outputs": [
        {
          "output_type": "stream",
          "name": "stdout",
          "text": [
            "Confidence >= 0.7:\n",
            "  Всего предсказаний: 432\n",
            "  Правильных: 337\n",
            "  Ошибок: 95\n",
            "  Точность: 0.7801\n",
            "\n",
            "Confidence >= 0.8:\n",
            "  Всего предсказаний: 283\n",
            "  Правильных: 234\n",
            "  Ошибок: 49\n",
            "  Точность: 0.8269\n",
            "\n",
            "Confidence >= 0.9:\n",
            "  Всего предсказаний: 143\n",
            "  Правильных: 134\n",
            "  Ошибок: 9\n",
            "  Точность: 0.9371\n",
            "\n"
          ]
        }
      ]
    },
    {
      "cell_type": "code",
      "source": [
        "# Фильтрация по confidence >= 0.9\n",
        "mask_conf = confidences >= 0.9\n",
        "preds_conf = preds[mask_conf]\n",
        "\n",
        "# Подсчет количества по классам\n",
        "class_counts = pd.Series(preds_conf).value_counts(normalize=True) * 100  # в процентах\n",
        "\n",
        "print(f\"Распределение классов при confidence >= 0.9 (в %):\")\n",
        "for cls, pct in class_counts.sort_index().items():\n",
        "    print(f\"  Класс {cls}: {pct:.2f}%\")"
      ],
      "metadata": {
        "colab": {
          "base_uri": "https://localhost:8080/"
        },
        "id": "Zexdz7L7tSPL",
        "outputId": "818e1612-75ad-4b16-eaa9-3e4098844308"
      },
      "execution_count": null,
      "outputs": [
        {
          "output_type": "stream",
          "name": "stdout",
          "text": [
            "Распределение классов при confidence >= 0.9 (в %):\n",
            "  Класс 1: 63.64%\n",
            "  Класс 2: 36.36%\n"
          ]
        }
      ]
    },
    {
      "cell_type": "code",
      "source": [
        "\n",
        "total_preds = len(preds)\n",
        "print(f\"Общее количество всех предсказаний: {total_preds}\")\n",
        "\n",
        "class_counts_all = pd.Series(preds).value_counts()\n",
        "print(\"Количество предсказаний по классам:\")\n",
        "for cls, count in class_counts_all.sort_index().items():\n",
        "    print(f\"  Класс {cls}: {count}\")"
      ],
      "metadata": {
        "colab": {
          "base_uri": "https://localhost:8080/"
        },
        "id": "KLKTii6XukKl",
        "outputId": "69da0bad-cd39-427c-e658-1e4bb41beb4d"
      },
      "execution_count": null,
      "outputs": [
        {
          "output_type": "stream",
          "name": "stdout",
          "text": [
            "Общее количество всех предсказаний: 1330\n",
            "Количество предсказаний по классам:\n",
            "  Класс 0: 343\n",
            "  Класс 1: 502\n",
            "  Класс 2: 485\n"
          ]
        }
      ]
    }
  ],
  "metadata": {
    "colab": {
      "provenance": [],
      "include_colab_link": true
    },
    "kernelspec": {
      "display_name": "Python 3",
      "name": "python3"
    },
    "language_info": {
      "name": "python"
    }
  },
  "nbformat": 4,
  "nbformat_minor": 0
}